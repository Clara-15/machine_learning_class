{
  "nbformat": 4,
  "nbformat_minor": 0,
  "metadata": {
    "colab": {
      "provenance": [],
      "authorship_tag": "ABX9TyOZjtyV3JduRBcpPWktV7OB",
      "include_colab_link": true
    },
    "kernelspec": {
      "name": "python3",
      "display_name": "Python 3"
    },
    "language_info": {
      "name": "python"
    }
  },
  "cells": [
    {
      "cell_type": "markdown",
      "metadata": {
        "id": "view-in-github",
        "colab_type": "text"
      },
      "source": [
        "<a href=\"https://colab.research.google.com/github/Clara-15/machine_learning_class/blob/main/Week1Assignment1.ipynb\" target=\"_parent\"><img src=\"https://colab.research.google.com/assets/colab-badge.svg\" alt=\"Open In Colab\"/></a>"
      ]
    },
    {
      "cell_type": "code",
      "source": [
        "# Function to multiply two numbers\n",
        "def multiply_two_numbers(num1, num2):\n",
        "    return num1 * num2\n",
        "\n",
        "# Calculator function using multiply_two_numbers\n",
        "def calculator():\n",
        "    print(\"Welcome to the simple calculator!\")\n",
        "    print(\"Select an operation:\")\n",
        "    print(\"1. Multiply two numbers\")\n",
        "\n",
        "    choice = input(\"Enter choice (1): \")\n",
        "\n",
        "    if choice == '1':\n",
        "        num1 = float(input(\"Enter the first number: \"))\n",
        "        num2 = float(input(\"Enter the second number: \"))\n",
        "\n",
        "        result = multiply_two_numbers(num1, num2)\n",
        "        print(f\"The result of multiplying {num1} and {num2} is: {result}\")\n",
        "    else:\n",
        "        print(\"Invalid input\")\n",
        "\n",
        "# Running the calculator function\n",
        "calculator()\n",
        "\n",
        "\n",
        "\n"
      ],
      "metadata": {
        "colab": {
          "base_uri": "https://localhost:8080/"
        },
        "id": "3INQ-QjMhbxD",
        "outputId": "1738fee7-4e2d-4371-b14b-3ef921e43d9d"
      },
      "execution_count": 7,
      "outputs": [
        {
          "output_type": "stream",
          "name": "stdout",
          "text": [
            "Welcome to the simple calculator!\n",
            "Select an operation:\n",
            "1. Multiply two numbers\n",
            "Enter choice (1): 1\n",
            "Enter the first number: 5\n",
            "Enter the second number: 6\n",
            "The result of multiplying 5.0 and 6.0 is: 30.0\n"
          ]
        }
      ]
    }
  ]
}