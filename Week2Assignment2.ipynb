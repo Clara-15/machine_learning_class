{
  "nbformat": 4,
  "nbformat_minor": 0,
  "metadata": {
    "colab": {
      "provenance": [],
      "authorship_tag": "ABX9TyPJEZAVibn+rvsSzaNPa2mh",
      "include_colab_link": true
    },
    "kernelspec": {
      "name": "python3",
      "display_name": "Python 3"
    },
    "language_info": {
      "name": "python"
    }
  },
  "cells": [
    {
      "cell_type": "markdown",
      "metadata": {
        "id": "view-in-github",
        "colab_type": "text"
      },
      "source": [
        "<a href=\"https://colab.research.google.com/github/Clara-15/machine_learning_class/blob/main/Week2Assignment2.ipynb\" target=\"_parent\"><img src=\"https://colab.research.google.com/assets/colab-badge.svg\" alt=\"Open In Colab\"/></a>"
      ]
    },
    {
      "cell_type": "markdown",
      "source": [
        "Assignment 2: Based on the above error, modify our calculator function to ensure that the arguments passed when calling the function are integers so that we can perform our operations without any errors."
      ],
      "metadata": {
        "id": "Cx0ebdo3oag7"
      }
    },
    {
      "cell_type": "code",
      "execution_count": 2,
      "metadata": {
        "colab": {
          "base_uri": "https://localhost:8080/"
        },
        "id": "gtbK-67qn82w",
        "outputId": "01821eca-c9a9-41db-b248-07e1534a8eb6"
      },
      "outputs": [
        {
          "output_type": "stream",
          "name": "stdout",
          "text": [
            "30\n"
          ]
        }
      ],
      "source": [
        "# Define the function to add two numbers\n",
        "def add_two_numbers(a, b):\n",
        "    # Ensure both arguments are integers\n",
        "    if not isinstance(a, int) or not isinstance(b, int):\n",
        "        return \"Error: Both arguments must be integers.\"\n",
        "\n",
        "    # Perform the addition\n",
        "    return a + b\n",
        "\n",
        "# Define the main calculator function\n",
        "def calculator(a, b, operation):\n",
        "    # Check the operation and perform it\n",
        "    if operation == \"add\":\n",
        "        return add_two_numbers(a, b)\n",
        "    elif operation == \"subtract\":\n",
        "        return a - b\n",
        "    elif operation == \"multiply\":\n",
        "        return a * b\n",
        "    elif operation == \"divide\":\n",
        "        if b == 0:\n",
        "            return \"Error: Division by zero is not allowed.\"\n",
        "        return a / b\n",
        "    else:\n",
        "        return \"Error: Unsupported operation.\"\n",
        "\n",
        "# Example usage:\n",
        "#result = calculator(10, \"20\", \"add\")\n",
        "#print(result)  # Output: Error: Both arguments must be integers.\n",
        "\n",
        "result = calculator(10, 20, \"add\")\n",
        "print(result)  # Output: 30\n"
      ]
    }
  ]
}