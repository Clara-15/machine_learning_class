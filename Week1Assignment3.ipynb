{
  "nbformat": 4,
  "nbformat_minor": 0,
  "metadata": {
    "colab": {
      "provenance": [],
      "authorship_tag": "ABX9TyO1x8VPCz/oXy6VQ0i1uFRo",
      "include_colab_link": true
    },
    "kernelspec": {
      "name": "python3",
      "display_name": "Python 3"
    },
    "language_info": {
      "name": "python"
    }
  },
  "cells": [
    {
      "cell_type": "markdown",
      "metadata": {
        "id": "view-in-github",
        "colab_type": "text"
      },
      "source": [
        "<a href=\"https://colab.research.google.com/github/Clara-15/machine_learning_class/blob/main/Week1Assignment3.ipynb\" target=\"_parent\"><img src=\"https://colab.research.google.com/assets/colab-badge.svg\" alt=\"Open In Colab\"/></a>"
      ]
    },
    {
      "cell_type": "markdown",
      "source": [
        "Assignment 3\n",
        "Create a class called 'Humans' with methods to print the following:\n",
        "\n",
        "The height of the human\n",
        "The weight of the human\n",
        "The Age of the human\n",
        "The name of the human\n",
        "Create instances of your class and modify or delete the properties on the objects.\n",
        "\n",
        "Make the 'name' a private variable. (reading around private and public variables and methods)"
      ],
      "metadata": {
        "id": "NqaaE2wfrARM"
      }
    },
    {
      "cell_type": "code",
      "execution_count": 2,
      "metadata": {
        "colab": {
          "base_uri": "https://localhost:8080/"
        },
        "id": "zhx0f-grq2Bb",
        "outputId": "e68a548a-44a1-466f-bb65-f90c5a6ac50f"
      },
      "outputs": [
        {
          "output_type": "stream",
          "name": "stdout",
          "text": [
            "The name of the human is Rachael.\n",
            "The height of the human is 170 cm.\n",
            "The weight of the human is 60 kg.\n",
            "The age of the human is 25 years.\n",
            "The name of the human is Rahil.\n",
            "The age property has been deleted.\n"
          ]
        }
      ],
      "source": [
        "class Humans:\n",
        "    # Constructor method to initialize the properties\n",
        "    def __init__(self, name, height, weight, age):\n",
        "        self.__name = name  # Private variable\n",
        "        self.height = height  # Public variable\n",
        "        self.weight = weight  # Public variable\n",
        "        self.age = age  # Public variable\n",
        "\n",
        "    # Method to print the height of the human\n",
        "    def print_height(self):\n",
        "        print(f\"The height of the human is {self.height} cm.\")\n",
        "\n",
        "    # Method to print the weight of the human\n",
        "    def print_weight(self):\n",
        "        print(f\"The weight of the human is {self.weight} kg.\")\n",
        "\n",
        "    # Method to print the age of the human\n",
        "    def print_age(self):\n",
        "        print(f\"The age of the human is {self.age} years.\")\n",
        "\n",
        "    # Method to print the name of the human\n",
        "    def print_name(self):\n",
        "        print(f\"The name of the human is {self.__name}.\")\n",
        "\n",
        "    # Method to modify the name (since it's private)\n",
        "    def set_name(self, new_name):\n",
        "        self.__name = new_name\n",
        "\n",
        "    # Method to get the name (since it's private)\n",
        "    def get_name(self):\n",
        "        return self.__name\n",
        "\n",
        "# Creating instances of the class\n",
        "human1 = Humans(\"Rachael\", 170, 60, 25)\n",
        "human2 = Humans(\"Kamau\", 180, 75, 30)\n",
        "\n",
        "# Printing the details of human1\n",
        "human1.print_name()    # Rachael\n",
        "human1.print_height()  # 170 cm\n",
        "human1.print_weight()  # 60 kg\n",
        "human1.print_age()     # 25 years\n",
        "\n",
        "# Modifying the name of human1\n",
        "human1.set_name(\"Rahil\")\n",
        "human1.print_name()    # Rahil\n",
        "\n",
        "# Deleting the age property of human2\n",
        "del human2.age\n",
        "\n",
        "# Trying to print the age of human2 (This will raise an AttributeError)\n",
        "try:\n",
        "    human2.print_age()\n",
        "except AttributeError:\n",
        "    print(\"The age property has been deleted.\")\n"
      ]
    }
  ]
}